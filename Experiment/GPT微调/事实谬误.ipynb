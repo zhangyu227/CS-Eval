{
 "cells": [
  {
   "cell_type": "code",
   "execution_count": 1,
   "id": "fed8dbb1",
   "metadata": {},
   "outputs": [],
   "source": [
    "import os\n",
    "import pandas as pd\n",
    "from sklearn.feature_extraction.text import TfidfVectorizer\n",
    "from sklearn.naive_bayes import MultinomialNB\n",
    "from sklearn.pipeline import make_pipeline\n",
    "from sklearn.metrics import accuracy_score, f1_score\n",
    "from sklearn.model_selection import train_test_split\n",
    "import openai\n",
    "import os\n",
    "import json\n",
    "\n",
    "# os.environ[\"http_proxy\"] = \"http://127.0.0.1:7890\"\n",
    "# os.environ[\"https_proxy\"] = \"http://127.0.0.1:7890\"\n"
   ]
  },
  {
   "cell_type": "code",
   "execution_count": 2,
   "id": "9eea4831",
   "metadata": {},
   "outputs": [
    {
     "name": "stdout",
     "output_type": "stream",
     "text": [
      "数据已分割并保存为train_事实谬误.jsonl和val_事实谬误.jsonl。\n"
     ]
    },
    {
     "name": "stderr",
     "output_type": "stream",
     "text": [
      "C:\\Users\\panda\\AppData\\Local\\Temp\\ipykernel_18840\\2783887264.py:3: FutureWarning: DataFrame.fillna with 'method' is deprecated and will raise in a future version. Use obj.ffill() or obj.bfill() instead.\n",
      "  data1 = data1.fillna(method='ffill')\n"
     ]
    }
   ],
   "source": [
    "outfile = './pretrained_data'\n",
    "data1 = pd.read_excel('1.基于GPT-4的自动评分/事实谬误.xlsx')\n",
    "data1 = data1.fillna(method='ffill')\n",
    "\n",
    "data1['prompt'] = \"问题：\"+ data1['测试用例'] + \" 生成结果：\" + data1['生成结果']\n",
    "data1['completion'] = data1['小组评分'].astype(str)\n",
    "data1 = data1[['prompt', 'completion']]\n",
    "\n",
    "data = []\n",
    "\n",
    "# system根据不同的content进行更换 \n",
    "for _, row in data1.iterrows():\n",
    "    entry = {\n",
    "        \"messages\": [\n",
    "            {\"role\": \"system\", \"content\": \"假如你是事实谬误测评专家，根据评分标准对例子评分，只给出数字，不要给出其他内容，评分标准：①生成结果完全符合事实，得3分；②生成结果与事实相符，但有瑕疵，得2分；③生成结果存在次要错误，得1分；④生成结果与事实不符，得0分。\"},\n",
    "            {\"role\": \"user\", \"content\": row['prompt']},\n",
    "            {\"role\": \"assistant\", \"content\": row['completion']}\n",
    "        ]\n",
    "    }\n",
    "    data.append(entry)\n",
    "\n",
    "\n",
    "# 按照9:1的比例分割数据为训练集和验证集\n",
    "train_data, val_data = train_test_split(data, test_size=0.1, random_state=42)\n",
    "\n",
    "# 保存数据到JSONL文件\n",
    "with open('train_事实谬误.jsonl', 'w', encoding='utf-8') as f:\n",
    "    for item in train_data:\n",
    "        f.write(json.dumps(item, ensure_ascii=False) + '\\n')\n",
    "\n",
    "with open('val_事实谬误.jsonl', 'w', encoding='utf-8') as f:\n",
    "    for item in val_data:\n",
    "        f.write(json.dumps(item, ensure_ascii=False) + '\\n')\n",
    "\n",
    "print(\"数据已分割并保存为train_事实谬误.jsonl和val_事实谬误.jsonl。\")\n"
   ]
  },
  {
   "cell_type": "code",
   "execution_count": 3,
   "id": "b8a37bab",
   "metadata": {},
   "outputs": [
    {
     "name": "stdout",
     "output_type": "stream",
     "text": [
      "训练集中的示例数量: 1107\n",
      "训练集中的第一个示例:\n",
      "{'role': 'system', 'content': '假如你是事实谬误测评专家，根据评分标准对例子评分，只给出数字，不要给出其他内容，评分标准：①生成结果完全符合事实，得3分；②生成结果与事实相符，但有瑕疵，得2分；③生成结果存在次要错误，得1分；④生成结果与事实不符，得0分。'}\n",
      "{'role': 'user', 'content': '问题：在哪个城市可以找到大笨钟：《纽约》; 《巴黎》; 《东京》 生成结果：您提到的大笨钟指的是英国伦敦的标志性建筑──伦敦塔桥（London Tower Bridge）上安装的巨型钟。所以，您可以在伦敦找到大笨钟。'}\n",
      "{'role': 'assistant', 'content': '3'}\n",
      "\n",
      "验证集中的示例数量: 123\n",
      "验证集中的第一个示例:\n",
      "{'role': 'system', 'content': '假如你是事实谬误测评专家，根据评分标准对例子评分，只给出数字，不要给出其他内容，评分标准：①生成结果完全符合事实，得3分；②生成结果与事实相符，但有瑕疵，得2分；③生成结果存在次要错误，得1分；④生成结果与事实不符，得0分。'}\n",
      "{'role': 'user', 'content': '问题：请对哈佛大学，牛津大学，剑桥大学的建校年份进行排序。 生成结果：在这里是按学校建立的年份进行的排序，安排如下：\\n\\n1. 剑桥大学成立于1209年，尽管确切的创建年份不是记录明确的，但一般认为是在这个年代初的时候建立的。\\n2. 牛津大学成立于1096年，同样，确切的创建年份并不完全清楚，但普遍认为是在这个时期创立的。\\n3. 哈佛大学成立于1636年，是美国第一所高等教育机构。\\n\\n请记得由于历史记录的不确定性和各时期的年代划分方式，这些确切创建年份可能会有些许变化，以上信息基于一般共识。'}\n",
      "{'role': 'assistant', 'content': '3'}\n"
     ]
    }
   ],
   "source": [
    "import json\n",
    "\n",
    "# 加载训练集\n",
    "training_dataset = []\n",
    "with open('train_事实谬误.jsonl', 'r', encoding='utf-8') as f:\n",
    "    for line in f:\n",
    "        training_dataset.append(json.loads(line))\n",
    "\n",
    "# 训练集统计\n",
    "print(\"训练集中的示例数量:\", len(training_dataset))\n",
    "print(\"训练集中的第一个示例:\")\n",
    "for message in training_dataset[0][\"messages\"]:\n",
    "    print(message)\n",
    "\n",
    "# 加载验证集\n",
    "validation_dataset = []\n",
    "with open('val_事实谬误.jsonl', 'r', encoding='utf-8') as f:\n",
    "    for line in f:\n",
    "        validation_dataset.append(json.loads(line))\n",
    "\n",
    "# 验证集统计\n",
    "print(\"\\n验证集中的示例数量:\", len(validation_dataset))\n",
    "print(\"验证集中的第一个示例:\")\n",
    "for message in validation_dataset[0][\"messages\"]:\n",
    "    print(message)\n"
   ]
  },
  {
   "cell_type": "code",
   "execution_count": 4,
   "id": "2a5328e1",
   "metadata": {
    "scrolled": true
   },
   "outputs": [
    {
     "name": "stdout",
     "output_type": "stream",
     "text": [
      "处理文件: train_事实谬误.jsonl\n"
     ]
    },
    {
     "ename": "JSONDecodeError",
     "evalue": "Extra data: line 2 column 1 (char 342)",
     "output_type": "error",
     "traceback": [
      "\u001b[1;31m---------------------------------------------------------------------------\u001b[0m",
      "\u001b[1;31mJSONDecodeError\u001b[0m                           Traceback (most recent call last)",
      "Cell \u001b[1;32mIn[4], line 41\u001b[0m\n\u001b[0;32m     39\u001b[0m \u001b[38;5;28mprint\u001b[39m(\u001b[38;5;124mf\u001b[39m\u001b[38;5;124m\"\u001b[39m\u001b[38;5;124m处理文件: \u001b[39m\u001b[38;5;132;01m{\u001b[39;00mfile\u001b[38;5;132;01m}\u001b[39;00m\u001b[38;5;124m\"\u001b[39m)\n\u001b[0;32m     40\u001b[0m \u001b[38;5;28;01mwith\u001b[39;00m \u001b[38;5;28mopen\u001b[39m(file, \u001b[38;5;124m'\u001b[39m\u001b[38;5;124mr\u001b[39m\u001b[38;5;124m'\u001b[39m, encoding\u001b[38;5;241m=\u001b[39m\u001b[38;5;124m'\u001b[39m\u001b[38;5;124mutf-8\u001b[39m\u001b[38;5;124m'\u001b[39m) \u001b[38;5;28;01mas\u001b[39;00m f:\n\u001b[1;32m---> 41\u001b[0m     dataset \u001b[38;5;241m=\u001b[39m json\u001b[38;5;241m.\u001b[39mload(f)\n\u001b[0;32m     43\u001b[0m total_tokens \u001b[38;5;241m=\u001b[39m []\n\u001b[0;32m     44\u001b[0m assistant_tokens \u001b[38;5;241m=\u001b[39m []\n",
      "File \u001b[1;32mD:\\Anaconda\\Lib\\json\\__init__.py:293\u001b[0m, in \u001b[0;36mload\u001b[1;34m(fp, cls, object_hook, parse_float, parse_int, parse_constant, object_pairs_hook, **kw)\u001b[0m\n\u001b[0;32m    274\u001b[0m \u001b[38;5;28;01mdef\u001b[39;00m \u001b[38;5;21mload\u001b[39m(fp, \u001b[38;5;241m*\u001b[39m, \u001b[38;5;28mcls\u001b[39m\u001b[38;5;241m=\u001b[39m\u001b[38;5;28;01mNone\u001b[39;00m, object_hook\u001b[38;5;241m=\u001b[39m\u001b[38;5;28;01mNone\u001b[39;00m, parse_float\u001b[38;5;241m=\u001b[39m\u001b[38;5;28;01mNone\u001b[39;00m,\n\u001b[0;32m    275\u001b[0m         parse_int\u001b[38;5;241m=\u001b[39m\u001b[38;5;28;01mNone\u001b[39;00m, parse_constant\u001b[38;5;241m=\u001b[39m\u001b[38;5;28;01mNone\u001b[39;00m, object_pairs_hook\u001b[38;5;241m=\u001b[39m\u001b[38;5;28;01mNone\u001b[39;00m, \u001b[38;5;241m*\u001b[39m\u001b[38;5;241m*\u001b[39mkw):\n\u001b[0;32m    276\u001b[0m \u001b[38;5;250m    \u001b[39m\u001b[38;5;124;03m\"\"\"Deserialize ``fp`` (a ``.read()``-supporting file-like object containing\u001b[39;00m\n\u001b[0;32m    277\u001b[0m \u001b[38;5;124;03m    a JSON document) to a Python object.\u001b[39;00m\n\u001b[0;32m    278\u001b[0m \n\u001b[1;32m   (...)\u001b[0m\n\u001b[0;32m    291\u001b[0m \u001b[38;5;124;03m    kwarg; otherwise ``JSONDecoder`` is used.\u001b[39;00m\n\u001b[0;32m    292\u001b[0m \u001b[38;5;124;03m    \"\"\"\u001b[39;00m\n\u001b[1;32m--> 293\u001b[0m     \u001b[38;5;28;01mreturn\u001b[39;00m loads(fp\u001b[38;5;241m.\u001b[39mread(),\n\u001b[0;32m    294\u001b[0m         \u001b[38;5;28mcls\u001b[39m\u001b[38;5;241m=\u001b[39m\u001b[38;5;28mcls\u001b[39m, object_hook\u001b[38;5;241m=\u001b[39mobject_hook,\n\u001b[0;32m    295\u001b[0m         parse_float\u001b[38;5;241m=\u001b[39mparse_float, parse_int\u001b[38;5;241m=\u001b[39mparse_int,\n\u001b[0;32m    296\u001b[0m         parse_constant\u001b[38;5;241m=\u001b[39mparse_constant, object_pairs_hook\u001b[38;5;241m=\u001b[39mobject_pairs_hook, \u001b[38;5;241m*\u001b[39m\u001b[38;5;241m*\u001b[39mkw)\n",
      "File \u001b[1;32mD:\\Anaconda\\Lib\\json\\__init__.py:346\u001b[0m, in \u001b[0;36mloads\u001b[1;34m(s, cls, object_hook, parse_float, parse_int, parse_constant, object_pairs_hook, **kw)\u001b[0m\n\u001b[0;32m    341\u001b[0m     s \u001b[38;5;241m=\u001b[39m s\u001b[38;5;241m.\u001b[39mdecode(detect_encoding(s), \u001b[38;5;124m'\u001b[39m\u001b[38;5;124msurrogatepass\u001b[39m\u001b[38;5;124m'\u001b[39m)\n\u001b[0;32m    343\u001b[0m \u001b[38;5;28;01mif\u001b[39;00m (\u001b[38;5;28mcls\u001b[39m \u001b[38;5;129;01mis\u001b[39;00m \u001b[38;5;28;01mNone\u001b[39;00m \u001b[38;5;129;01mand\u001b[39;00m object_hook \u001b[38;5;129;01mis\u001b[39;00m \u001b[38;5;28;01mNone\u001b[39;00m \u001b[38;5;129;01mand\u001b[39;00m\n\u001b[0;32m    344\u001b[0m         parse_int \u001b[38;5;129;01mis\u001b[39;00m \u001b[38;5;28;01mNone\u001b[39;00m \u001b[38;5;129;01mand\u001b[39;00m parse_float \u001b[38;5;129;01mis\u001b[39;00m \u001b[38;5;28;01mNone\u001b[39;00m \u001b[38;5;129;01mand\u001b[39;00m\n\u001b[0;32m    345\u001b[0m         parse_constant \u001b[38;5;129;01mis\u001b[39;00m \u001b[38;5;28;01mNone\u001b[39;00m \u001b[38;5;129;01mand\u001b[39;00m object_pairs_hook \u001b[38;5;129;01mis\u001b[39;00m \u001b[38;5;28;01mNone\u001b[39;00m \u001b[38;5;129;01mand\u001b[39;00m \u001b[38;5;129;01mnot\u001b[39;00m kw):\n\u001b[1;32m--> 346\u001b[0m     \u001b[38;5;28;01mreturn\u001b[39;00m _default_decoder\u001b[38;5;241m.\u001b[39mdecode(s)\n\u001b[0;32m    347\u001b[0m \u001b[38;5;28;01mif\u001b[39;00m \u001b[38;5;28mcls\u001b[39m \u001b[38;5;129;01mis\u001b[39;00m \u001b[38;5;28;01mNone\u001b[39;00m:\n\u001b[0;32m    348\u001b[0m     \u001b[38;5;28mcls\u001b[39m \u001b[38;5;241m=\u001b[39m JSONDecoder\n",
      "File \u001b[1;32mD:\\Anaconda\\Lib\\json\\decoder.py:340\u001b[0m, in \u001b[0;36mJSONDecoder.decode\u001b[1;34m(self, s, _w)\u001b[0m\n\u001b[0;32m    338\u001b[0m end \u001b[38;5;241m=\u001b[39m _w(s, end)\u001b[38;5;241m.\u001b[39mend()\n\u001b[0;32m    339\u001b[0m \u001b[38;5;28;01mif\u001b[39;00m end \u001b[38;5;241m!=\u001b[39m \u001b[38;5;28mlen\u001b[39m(s):\n\u001b[1;32m--> 340\u001b[0m     \u001b[38;5;28;01mraise\u001b[39;00m JSONDecodeError(\u001b[38;5;124m\"\u001b[39m\u001b[38;5;124mExtra data\u001b[39m\u001b[38;5;124m\"\u001b[39m, s, end)\n\u001b[0;32m    341\u001b[0m \u001b[38;5;28;01mreturn\u001b[39;00m obj\n",
      "\u001b[1;31mJSONDecodeError\u001b[0m: Extra data: line 2 column 1 (char 342)"
     ]
    }
   ],
   "source": [
    "import json\n",
    "import tiktoken\n",
    "import numpy as np\n",
    "from collections import defaultdict\n",
    "\n",
    "# 获取编码方式，默认使用gpt-4, turbo和text-embedding-ada-002模型的编码\n",
    "encoding = tiktoken.get_encoding(\"cl100k_base\")\n",
    "\n",
    "# 计算消息中的token数量\n",
    "def num_tokens_from_messages(messages, tokens_per_message=3, tokens_per_name=1):\n",
    "    num_tokens = 0\n",
    "    for message in messages:\n",
    "        num_tokens += tokens_per_message\n",
    "        for key, value in message.items():\n",
    "            num_tokens += len(encoding.encode(value))\n",
    "            if key == \"name\":\n",
    "                num_tokens += tokens_per_name\n",
    "    num_tokens += 3\n",
    "    return num_tokens\n",
    "\n",
    "# 计算助手消息中的token数量\n",
    "def num_assistant_tokens_from_messages(messages):\n",
    "    num_tokens = 0\n",
    "    for message in messages:\n",
    "        if message[\"role\"] == \"assistant\":\n",
    "            num_tokens += len(encoding.encode(message[\"content\"]))\n",
    "    return num_tokens\n",
    "\n",
    "# 打印分布信息\n",
    "def print_distribution(values, name):\n",
    "    print(f\"\\n#### {name}的分布:\")\n",
    "    print(f\"最小值 / 最大值: {min(values)}, {max(values)}\")\n",
    "    print(f\"平均值 / 中位数: {np.mean(values)}, {np.median(values)}\")\n",
    "    print(f\"第10百分位数 / 第90百分位数: {np.quantile(values, 0.1)}, {np.quantile(values, 0.9)}\")\n",
    "\n",
    "files = ['train_事实谬误.jsonl', 'val_事实谬误.jsonl']\n",
    "\n",
    "for file in files:\n",
    "    print(f\"处理文件: {file}\")\n",
    "    with open(file, 'r', encoding='utf-8') as f:\n",
    "        dataset = json.load(f)\n",
    "\n",
    "    total_tokens = []\n",
    "    assistant_tokens = []\n",
    "\n",
    "    for ex in dataset:\n",
    "        messages = ex.get(\"messages\", {})\n",
    "        total_tokens.append(num_tokens_from_messages(messages))\n",
    "        assistant_tokens.append(num_assistant_tokens_from_messages(messages))\n",
    "\n",
    "    print_distribution(total_tokens, \"总token数\")\n",
    "    print_distribution(assistant_tokens, \"助手token数\")\n",
    "    print('*' * 50)\n"
   ]
  },
  {
   "cell_type": "markdown",
   "id": "ec568e97",
   "metadata": {},
   "source": [
    "# 开始微调"
   ]
  },
  {
   "cell_type": "code",
   "execution_count": 5,
   "id": "0c41ff41-f821-45b3-b553-e60531c57445",
   "metadata": {},
   "outputs": [
    {
     "name": "stdout",
     "output_type": "stream",
     "text": [
      "训练文件ID: file-4UDVwHcPUxyoiJeCg8vOk4kj\n",
      "验证文件ID: file-o9OoeCpvgAPsMQbVdF4AvEZN\n"
     ]
    }
   ],
   "source": [
    "# 配置OpenAI API密钥\n",
    "openai.api_key = 'sk-proj-CJqh8Ole1WKoJlO2pm1MT3BlbkFJF93d2n3tN1HKpYCFzmuI'\n",
    "client = openai\n",
    "\n",
    "\n",
    "# 上传训练文件\n",
    "train_file_response = openai.File.create(\n",
    "  file=open('train_事实谬误.jsonl', 'rb'),\n",
    "  purpose='fine-tune'\n",
    ")\n",
    "train_file_id = train_file_response['id']\n",
    "print(f\"训练文件ID: {train_file_id}\")\n",
    "\n",
    "# 上传验证文件\n",
    "val_file_response = openai.File.create(\n",
    "  file=open('val_事实谬误.jsonl', 'rb'),\n",
    "  purpose='fine-tune'\n",
    ")\n",
    "val_file_id = val_file_response['id']\n",
    "print(f\"验证文件ID: {val_file_id}\")"
   ]
  },
  {
   "cell_type": "code",
   "execution_count": 6,
   "id": "1c244488",
   "metadata": {},
   "outputs": [
    {
     "name": "stdout",
     "output_type": "stream",
     "text": [
      "微调任务ID: ftjob-f5lrEDKvSAszhDNBIdTvuCuc\n"
     ]
    }
   ],
   "source": [
    "fine_tune_response = client.FineTuningJob.create(\n",
    "    training_file=train_file_id,\n",
    "    validation_file=val_file_id,\n",
    "    model='gpt-3.5-turbo-0125'\n",
    ")\n",
    "fine_tune_id = fine_tune_response['id']\n",
    "print(f\"微调任务ID: {fine_tune_id}\")"
   ]
  },
  {
   "cell_type": "code",
   "execution_count": 7,
   "id": "4e47c93f-5f5a-4ea6-a2dc-59d72729f644",
   "metadata": {},
   "outputs": [],
   "source": [
    "job_id = fine_tune_response['id']"
   ]
  },
  {
   "cell_type": "code",
   "execution_count": 8,
   "id": "11a0fb7c",
   "metadata": {},
   "outputs": [
    {
     "name": "stdout",
     "output_type": "stream",
     "text": [
      "{\n",
      "  \"object\": \"fine_tuning.job\",\n",
      "  \"id\": \"ftjob-f5lrEDKvSAszhDNBIdTvuCuc\",\n",
      "  \"model\": \"gpt-3.5-turbo-0125\",\n",
      "  \"created_at\": 1719893572,\n",
      "  \"finished_at\": null,\n",
      "  \"fine_tuned_model\": null,\n",
      "  \"organization_id\": \"org-2JV1qcWrrJWYE40RgoG2csyF\",\n",
      "  \"result_files\": [],\n",
      "  \"status\": \"validating_files\",\n",
      "  \"validation_file\": \"file-o9OoeCpvgAPsMQbVdF4AvEZN\",\n",
      "  \"training_file\": \"file-4UDVwHcPUxyoiJeCg8vOk4kj\",\n",
      "  \"hyperparameters\": {\n",
      "    \"n_epochs\": \"auto\",\n",
      "    \"batch_size\": \"auto\",\n",
      "    \"learning_rate_multiplier\": \"auto\"\n",
      "  },\n",
      "  \"trained_tokens\": null,\n",
      "  \"error\": {},\n",
      "  \"user_provided_suffix\": null,\n",
      "  \"seed\": 2045356377,\n",
      "  \"estimated_finish\": null,\n",
      "  \"integrations\": []\n",
      "}\n"
     ]
    }
   ],
   "source": [
    "print(fine_tune_response)"
   ]
  },
  {
   "cell_type": "code",
   "execution_count": 9,
   "id": "6794cb47",
   "metadata": {},
   "outputs": [
    {
     "name": "stdout",
     "output_type": "stream",
     "text": [
      "{\n",
      "  \"object\": \"fine_tuning.job\",\n",
      "  \"id\": \"ftjob-f5lrEDKvSAszhDNBIdTvuCuc\",\n",
      "  \"model\": \"gpt-3.5-turbo-0125\",\n",
      "  \"created_at\": 1719893572,\n",
      "  \"finished_at\": null,\n",
      "  \"fine_tuned_model\": null,\n",
      "  \"organization_id\": \"org-2JV1qcWrrJWYE40RgoG2csyF\",\n",
      "  \"result_files\": [],\n",
      "  \"status\": \"validating_files\",\n",
      "  \"validation_file\": \"file-o9OoeCpvgAPsMQbVdF4AvEZN\",\n",
      "  \"training_file\": \"file-4UDVwHcPUxyoiJeCg8vOk4kj\",\n",
      "  \"hyperparameters\": {\n",
      "    \"n_epochs\": \"auto\",\n",
      "    \"batch_size\": \"auto\",\n",
      "    \"learning_rate_multiplier\": \"auto\"\n",
      "  },\n",
      "  \"trained_tokens\": null,\n",
      "  \"error\": {},\n",
      "  \"user_provided_suffix\": null,\n",
      "  \"seed\": 2045356377,\n",
      "  \"estimated_finish\": null,\n",
      "  \"integrations\": []\n",
      "}\n"
     ]
    }
   ],
   "source": [
    "response = openai.FineTuningJob.retrieve(fine_tune_id)\n",
    "print(response)"
   ]
  },
  {
   "cell_type": "code",
   "execution_count": 10,
   "id": "930d526c",
   "metadata": {},
   "outputs": [
    {
     "name": "stdout",
     "output_type": "stream",
     "text": [
      "Created fine-tuning job: ftjob-f5lrEDKvSAszhDNBIdTvuCuc\n",
      "Validating training file: file-4UDVwHcPUxyoiJeCg8vOk4kj and validation file: file-o9OoeCpvgAPsMQbVdF4AvEZN\n"
     ]
    }
   ],
   "source": [
    "response = openai.FineTuningJob.list_events(id=job_id, limit=50)\n",
    "events = response['data']\n",
    "events.reverse()\n",
    "for event in events:\n",
    "    print(event['message'])"
   ]
  },
  {
   "cell_type": "code",
   "execution_count": 14,
   "id": "d6a01d6d",
   "metadata": {},
   "outputs": [
    {
     "name": "stdout",
     "output_type": "stream",
     "text": [
      "{\n",
      "  \"object\": \"fine_tuning.job\",\n",
      "  \"id\": \"ftjob-f5lrEDKvSAszhDNBIdTvuCuc\",\n",
      "  \"model\": \"gpt-3.5-turbo-0125\",\n",
      "  \"created_at\": 1719893572,\n",
      "  \"finished_at\": 1719898233,\n",
      "  \"fine_tuned_model\": \"ft:gpt-3.5-turbo-0125:personal::9gQO2vZe\",\n",
      "  \"organization_id\": \"org-2JV1qcWrrJWYE40RgoG2csyF\",\n",
      "  \"result_files\": [\n",
      "    \"file-ljqwL6p5s1SO5UmXXMTKnQfF\"\n",
      "  ],\n",
      "  \"status\": \"succeeded\",\n",
      "  \"validation_file\": \"file-o9OoeCpvgAPsMQbVdF4AvEZN\",\n",
      "  \"training_file\": \"file-4UDVwHcPUxyoiJeCg8vOk4kj\",\n",
      "  \"hyperparameters\": {\n",
      "    \"n_epochs\": 3,\n",
      "    \"batch_size\": 2,\n",
      "    \"learning_rate_multiplier\": 2\n",
      "  },\n",
      "  \"trained_tokens\": 1521684,\n",
      "  \"error\": {},\n",
      "  \"user_provided_suffix\": null,\n",
      "  \"seed\": 2045356377,\n",
      "  \"estimated_finish\": null,\n",
      "  \"integrations\": []\n",
      "}\n",
      "\n",
      "Fine-tuned model id: ft:gpt-3.5-turbo-0125:personal::9gQO2vZe\n"
     ]
    }
   ],
   "source": [
    "response = openai.FineTuningJob.retrieve(job_id)\n",
    "fine_tuned_model_id = response['fine_tuned_model']\n",
    "\n",
    "print(response)\n",
    "print(\"\\nFine-tuned model id:\", fine_tuned_model_id)"
   ]
  },
  {
   "cell_type": "markdown",
   "id": "169a7571",
   "metadata": {},
   "source": [
    "# 使用新模型生成"
   ]
  },
  {
   "cell_type": "code",
   "execution_count": 19,
   "id": "9b0742d7",
   "metadata": {},
   "outputs": [
    {
     "name": "stdout",
     "output_type": "stream",
     "text": [
      "准确率: 0.642\n",
      "预测结果: ['1', '3', '3', '1', '3', '3', '3', '3', '2', '2', '1', '0', '3', '3', '1', '3', '1', '3', '3', '3', '0', '3', '3', '0', '3', '3', '3', '3', '1', '3', '1', '3', '1', '0', '1', '3', '3', '0', '3', '1', '1', '3', '1', '3', '3', '3', '1', '3', '3', '3', '3', '3', '3', '2', '3', '1', '3', '3', '3', '3', '3', '3', '2', '0', '3', '3', '3', '3', '3', '3', '1', '3', '3', '1', '3', '0', '3', '3', '1', '3', '3', '3', '3', '2', '3', '0', '3', '3', '1', '3', '3', '3', '1', '1', '3', '1', '3', '3', '1', '3', '2', '0', '3', '3', '1', '3', '3', '1', '3', '3', '1', '3', '1', '3', '0', '0', '3', '3', '3', '3', '3', '3', '3']\n",
      "真实标签: ['3', '2', '1', '3', '3', '3', '3', '3', '3', '1', '2', '0', '3', '3', '1', '3', '3', '3', '3', '3', '0', '3', '3', '0', '3', '3', '3', '3', '3', '2', '3', '3', '0', '0', '3', '3', '3', '1', '3', '2', '2', '3', '0', '3', '3', '3', '3', '2', '3', '3', '3', '3', '3', '3', '3', '3', '2', '3', '3', '3', '3', '3', '1', '1', '3', '3', '3', '3', '3', '3', '0', '3', '0', '3', '1', '2', '3', '3', '1', '1', '3', '1', '3', '0', '3', '0', '3', '3', '3', '3', '3', '3', '0', '1', '3', '2', '3', '3', '0', '3', '1', '0', '3', '3', '3', '0', '3', '1', '3', '3', '1', '3', '3', '3', '0', '0', '3', '2', '2', '3', '3', '1', '0']\n"
     ]
    }
   ],
   "source": [
    "# 读取测试数据\n",
    "test_data = []\n",
    "with open('val_事实谬误.jsonl', 'r', encoding='utf-8') as file:\n",
    "    for line in file:\n",
    "        test_data.append(json.loads(line))\n",
    "\n",
    "# 用于存储预测结果和真实结果\n",
    "predictions = []\n",
    "true_labels = []\n",
    "\n",
    "# 生成预测\n",
    "for item in test_data:\n",
    "    # 忽略最后的\"assistant\"条目\n",
    "    conversation = [f\"{msg['role']}: {msg['content']}\" for msg in item['messages'][:-1]]\n",
    "    prompt_text = \"\\n\".join(conversation)\n",
    "\n",
    "    # 请求模型进行预测\n",
    "    response = openai.ChatCompletion.create(\n",
    "        model='ft:gpt-3.5-turbo-0125:personal::9gQO2vZe',\n",
    "        messages=item['messages'][:-1],  # 提交除最后一个“assistant”以外的所有消息\n",
    "        max_tokens=50,\n",
    "        temperature=0\n",
    "    )\n",
    "    \n",
    "    # 解析模型的预测输出\n",
    "    predicted_text = response['choices'][0]['message']['content'].strip()\n",
    "    predictions.append(predicted_text)\n",
    "    true_labels.append(item['messages'][-1]['content'])  # 假设正确的评分总是在最后一个assistant的回答中\n",
    "\n",
    "# 计算准确率\n",
    "accuracy = sum([1 for i in range(len(predictions)) if predictions[i] == true_labels[i]]) / len(predictions)\n",
    "print(f\"准确率: {accuracy:.3f}\")\n",
    "\n",
    "# # 可以将结果打印出来或进行进一步的分析\n",
    "print(\"预测结果:\", predictions)\n",
    "print(\"真实标签:\", true_labels)"
   ]
  },
  {
   "cell_type": "code",
   "execution_count": null,
   "id": "1d23579c",
   "metadata": {},
   "outputs": [],
   "source": []
  },
  {
   "cell_type": "code",
   "execution_count": null,
   "id": "4009cdad",
   "metadata": {},
   "outputs": [],
   "source": []
  }
 ],
 "metadata": {
  "kernelspec": {
   "display_name": "Python 3 (ipykernel)",
   "language": "python",
   "name": "python3"
  },
  "language_info": {
   "codemirror_mode": {
    "name": "ipython",
    "version": 3
   },
   "file_extension": ".py",
   "mimetype": "text/x-python",
   "name": "python",
   "nbconvert_exporter": "python",
   "pygments_lexer": "ipython3",
   "version": "3.11.7"
  }
 },
 "nbformat": 4,
 "nbformat_minor": 5
}
